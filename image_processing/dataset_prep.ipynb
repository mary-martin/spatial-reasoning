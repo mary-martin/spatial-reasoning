{
 "cells": [
  {
   "cell_type": "code",
   "execution_count": 1,
   "metadata": {},
   "outputs": [],
   "source": [
    "import json\n",
    "import numpy as np\n",
    "from matplotlib import pyplot as plt\n",
    "from clevr_dataset import CustomDataset\n",
    "import glob"
   ]
  },
  {
   "cell_type": "code",
   "execution_count": 2,
   "metadata": {},
   "outputs": [],
   "source": [
    "image_dir = '/home/mary/Code/spatial-reasoning/custom_clevr/output/images'\n",
    "metadata_dir = '/home/mary/Code/spatial-reasoning/custom_clevr/output/scenes'\n",
    "dataset_images = sorted(glob.glob(f\"{image_dir}/*.png\"))\n",
    "image_metadata = sorted(glob.glob(f\"{metadata_dir}/*.json\"))"
   ]
  },
  {
   "cell_type": "code",
   "execution_count": 6,
   "metadata": {},
   "outputs": [
    {
     "name": "stdout",
     "output_type": "stream",
     "text": [
      "{'split': 'train', 'image_filename': 'CLEVR_train_000002.png', 'boxes': [[333, 143, 36, 35], [256, 137, 82, 81], [149, 59, 66, 73]], 'labels': [2, 2, 0], 'image_id': 2, 'area': [1260, 6642, 4818]}\n",
      "{'boxes': tensor([[333., 143.,  36.,  35.],\n",
      "        [256., 137.,  82.,  81.],\n",
      "        [149.,  59.,  66.,  73.]]), 'labels': tensor([2, 2, 0]), 'image_id': 2, 'area': tensor([1260., 6642., 4818.]), 'iscrowd': tensor([0, 0, 0], dtype=torch.uint8)}\n"
     ]
    }
   ],
   "source": [
    "clevr_test = CustomDataset(dataset_images, image_metadata)\n",
    "print(clevr_test.annotations[2])\n",
    "img, annotation = clevr_test.__getitem__(2)\n",
    "print(annotation)"
   ]
  },
  {
   "cell_type": "code",
   "execution_count": null,
   "metadata": {},
   "outputs": [],
   "source": []
  }
 ],
 "metadata": {
  "kernelspec": {
   "display_name": "base",
   "language": "python",
   "name": "python3"
  },
  "language_info": {
   "codemirror_mode": {
    "name": "ipython",
    "version": 3
   },
   "file_extension": ".py",
   "mimetype": "text/x-python",
   "name": "python",
   "nbconvert_exporter": "python",
   "pygments_lexer": "ipython3",
   "version": "3.11.4"
  }
 },
 "nbformat": 4,
 "nbformat_minor": 2
}
